{
 "cells": [
  {
   "cell_type": "markdown",
   "metadata": {},
   "source": [
    "# PHYS 20323/60323 Homework Week 8\n",
    "\n",
    "FALL 2022\n"
   ]
  },
  {
   "cell_type": "markdown",
   "metadata": {},
   "source": [
    "### 1) Altitude of a satellite\n",
    "\n",
    "A satellite is to be launched into a circular orbit around the Earth so that it orbits the planet once every T seconds.\n",
    "\n",
    "The altitude h above the Earth’s surface that the satellite must have is:\n",
    "\n",
    "$$h = \\left( \\frac{G M T^2}{4\\pi^2} \\right)^{1/3} - R$$\n",
    "\n",
    "where $G = 6.67 \\times 10^{-11}$ m$^3$ kg$^{-1}$ s$^{-2}$\n",
    "is Newton's gravitational constant, $M = 5.97 \\times 10^{24}$ kg is the mass of the Earth, and $R = 6371$ km is its radius.\n",
    "\n",
    "#### Write a program that asks the user to enter the desired value of T and then calculates and prints out the correct altitude in meters.\n"
   ]
  },
  {
   "cell_type": "code",
   "execution_count": 9,
   "metadata": {},
   "outputs": [
    {
     "name": "stdin",
     "output_type": "stream",
     "text": [
      "Enter 'T' value in seconds: 2700\n"
     ]
    },
    {
     "name": "stdout",
     "output_type": "stream",
     "text": [
      "2700\n"
     ]
    }
   ],
   "source": [
    "import math\n",
    "G = (6.67*10**(-11))\n",
    "M = (5.97*10**24)\n",
    "R = 6371 * 1000\n",
    "T = input(\"Enter 'T' value in seconds:\")\n",
    "print(T)\n"
   ]
  },
  {
   "cell_type": "code",
   "execution_count": 14,
   "metadata": {},
   "outputs": [
    {
     "name": "stdout",
     "output_type": "stream",
     "text": [
      "-2181559.8978108233\n"
     ]
    }
   ],
   "source": [
    "height = (((G*M*(int(T)**2))/(4*(math.pi**2)))**(1/3)) - R\n",
    "print(height)"
   ]
  },
  {
   "cell_type": "markdown",
   "metadata": {},
   "source": [
    "Use your program to calculate the altitudes of satellites that orbit the Earth once\n",
    "a day (so-called “geosynchronous” orbit), once every 90 minutes, and once every\n",
    "45 minutes. What do you conclude from the last of these calculations?\n",
    "\n",
    "\n",
    "\n"
   ]
  },
  {
   "cell_type": "code",
   "execution_count": 15,
   "metadata": {},
   "outputs": [
    {
     "name": "stdin",
     "output_type": "stream",
     "text": [
      "Enter 'T' value in minutes: 45\n"
     ]
    },
    {
     "name": "stdout",
     "output_type": "stream",
     "text": [
      "45\n"
     ]
    }
   ],
   "source": [
    "import math\n",
    "G = (6.67*10**(-11))\n",
    "M = (5.97*10**24)\n",
    "R = 6371 * 1000\n",
    "T = input(\"Enter 'T' value in minutes:\")\n",
    "print(T)\n"
   ]
  },
  {
   "cell_type": "code",
   "execution_count": 16,
   "metadata": {},
   "outputs": [
    {
     "name": "stdout",
     "output_type": "stream",
     "text": [
      "-2181559.8978108233\n"
     ]
    }
   ],
   "source": [
    "height = (((G*M*((int(T) * 60)**2))/(4*(math.pi**2)))**(1/3)) - R\n",
    "print(height)"
   ]
  },
  {
   "cell_type": "code",
   "execution_count": 17,
   "metadata": {},
   "outputs": [
    {
     "name": "stdin",
     "output_type": "stream",
     "text": [
      "Enter 'T' value in seconds: 5400\n"
     ]
    },
    {
     "name": "stdout",
     "output_type": "stream",
     "text": [
      "5400\n"
     ]
    }
   ],
   "source": [
    "import math\n",
    "G = (6.67*10**(-11))\n",
    "M = (5.97*10**24)\n",
    "R = 6371 * 1000\n",
    "T = input(\"Enter 'T' value in seconds:\")\n",
    "print(T)"
   ]
  },
  {
   "cell_type": "code",
   "execution_count": 18,
   "metadata": {},
   "outputs": [
    {
     "name": "stdout",
     "output_type": "stream",
     "text": [
      "279321.62537285965\n"
     ]
    }
   ],
   "source": [
    "height = (((G*M*(int(T)**2))/(4*(math.pi**2)))**(1/3)) - R\n",
    "print(height)"
   ]
  },
  {
   "cell_type": "markdown",
   "metadata": {},
   "source": [
    "Technically a geosynchronous satellite is one that orbits the Earth once persidereal\n",
    "day, which is 23.93 hours, not 24 hours. Why is this? And how much difference\n",
    "will it make to the altitude of the satellite?"
   ]
  },
  {
   "cell_type": "code",
   "execution_count": 24,
   "metadata": {},
   "outputs": [
    {
     "name": "stdout",
     "output_type": "stream",
     "text": [
      "86148\n",
      "35773762.329895645\n",
      "35855910.17617497\n",
      "82147.8462793231\n"
     ]
    }
   ],
   "source": [
    "#it will make the time value smaller and making the overall altitude shorter than it should be - orbits once per day so time = 1 day\n",
    "time_seconds = int(1 * float(23.93) * 60 * 60)\n",
    "print(time_seconds)\n",
    "\n",
    "height_seconds = (((G*M*(time_seconds**2))/(4*(math.pi**2)))**(1/3)) - R\n",
    "print(height_seconds)\n",
    "\n",
    "time_normal = int(1 * 24 * 60 * 60)\n",
    "height_normal = (((G*M*(time_normal**2))/(4*(math.pi**2)))**(1/3)) - R\n",
    "print(height_normal)\n",
    "\n",
    "altitude_difference = float(height_normal - height_seconds)\n",
    "print(altitude_difference)"
   ]
  },
  {
   "cell_type": "markdown",
   "metadata": {},
   "source": [
    "### 2) Special Relativity\n",
    "\n",
    "A spaceship travels from Earth in a straight line at a (relativistic)\n",
    "speed $v$ to another planet $x$ light years away. Write a program to ask\n",
    "the user for the value of $x$ and the speed $v$ as a fraction of the speed\n",
    "of light, then print out the time in years that the spaceship takes to\n",
    "reach its destination (a) in the rest frame of an observer on Earth\n",
    "and (b) as perceived by a passenger on board the ship.\n",
    "\n",
    "$$x' = \\gamma (x - vt)$$\n",
    "\n",
    "$$t' = \\gamma \\left(t - \\frac{v x}{c^2}\\right)$$\n",
    "\n",
    "$$\\gamma = \\frac{1}{\\sqrt{1 - \\frac{v^2}{c^2}}}$$\n"
   ]
  },
  {
   "cell_type": "code",
   "execution_count": 42,
   "metadata": {},
   "outputs": [
    {
     "name": "stdin",
     "output_type": "stream",
     "text": [
      "Distance to planet in lightyears: 5\n"
     ]
    },
    {
     "name": "stdout",
     "output_type": "stream",
     "text": [
      "5.0\n"
     ]
    },
    {
     "name": "stdin",
     "output_type": "stream",
     "text": [
      "Speed of space ship as a fraction of speed of light (meters/second): 0.5\n"
     ]
    },
    {
     "name": "stdout",
     "output_type": "stream",
     "text": [
      "0.5\n"
     ]
    }
   ],
   "source": [
    "c = 3.0*10**8\n",
    "x = float(input(\"Distance to planet in lightyears:\"))\n",
    "print(x)\n",
    "v = float(input(\"Speed of space ship as a fraction of speed of light (meters/second):\"))\n",
    "print(v)"
   ]
  },
  {
   "cell_type": "code",
   "execution_count": 43,
   "metadata": {},
   "outputs": [
    {
     "name": "stdout",
     "output_type": "stream",
     "text": [
      "10.0\n",
      "11.547005374170011\n"
     ]
    }
   ],
   "source": [
    "gamma = 1/((1-(v**2))**(1/2))\n",
    "\n",
    "t = x / v\n",
    "print(t)\n",
    "\n",
    "t_prime = gamma * (t - ((v * x) / c))\n",
    "print(t_prime)"
   ]
  },
  {
   "cell_type": "markdown",
   "metadata": {},
   "source": [
    "#### Use your program to calculate the answers for a planet 10 light years away with $v = 0.90c$,  $v = 0.98c$, $v = 0.999c$."
   ]
  },
  {
   "cell_type": "code",
   "execution_count": 38,
   "metadata": {},
   "outputs": [
    {
     "name": "stdin",
     "output_type": "stream",
     "text": [
      "Distance to planet in lightyears: 10\n"
     ]
    },
    {
     "name": "stdout",
     "output_type": "stream",
     "text": [
      "10.0\n"
     ]
    },
    {
     "name": "stdin",
     "output_type": "stream",
     "text": [
      "Speed of space ship as a fraction of speed of light: 0.9\n"
     ]
    },
    {
     "name": "stdout",
     "output_type": "stream",
     "text": [
      "0.9\n",
      "11.11111111111111\n",
      "25.490637027904366\n"
     ]
    }
   ],
   "source": [
    "x_10 = float(input(\"Distance to planet in lightyears:\"))\n",
    "print(x_10)\n",
    "v_9 = float(input(\"Speed of space ship as a fraction of speed of light:\"))\n",
    "print(v_9)\n",
    "\n",
    "t_109 = x_10 / v_9\n",
    "print(t_109)\n",
    "\n",
    "t_prime_109 = gamma * (t_109 - ((v_9 * x_10) / c))\n",
    "print(t_prime_109)"
   ]
  },
  {
   "cell_type": "code",
   "execution_count": 39,
   "metadata": {},
   "outputs": [
    {
     "name": "stdin",
     "output_type": "stream",
     "text": [
      "Distance to planet in lightyears: 10\n"
     ]
    },
    {
     "name": "stdout",
     "output_type": "stream",
     "text": [
      "10.0\n"
     ]
    },
    {
     "name": "stdin",
     "output_type": "stream",
     "text": [
      "Speed of space ship as a fraction of speed of light: 0.98\n"
     ]
    },
    {
     "name": "stdout",
     "output_type": "stream",
     "text": [
      "0.98\n",
      "10.204081632653061\n",
      "23.409768687359755\n"
     ]
    }
   ],
   "source": [
    "x1_10 = float(input(\"Distance to planet in lightyears:\"))\n",
    "print(x1_10)\n",
    "v1_98 = float(input(\"Speed of space ship as a fraction of speed of light:\"))\n",
    "print(v1_98)\n",
    "\n",
    "t1_109 = x1_10 / v1_98\n",
    "print(t1_109)\n",
    "\n",
    "t_prime1_109 = gamma * (t1_109 - ((v1_98 * x1_10) / c))\n",
    "print(t_prime1_109)"
   ]
  },
  {
   "cell_type": "code",
   "execution_count": 41,
   "metadata": {},
   "outputs": [
    {
     "name": "stdin",
     "output_type": "stream",
     "text": [
      "Distance to planet in lightyears: 10\n"
     ]
    },
    {
     "name": "stdout",
     "output_type": "stream",
     "text": [
      "10.0\n"
     ]
    },
    {
     "name": "stdin",
     "output_type": "stream",
     "text": [
      "Speed of space ship as a fraction of speed of light: 0.999\n"
     ]
    },
    {
     "name": "stdout",
     "output_type": "stream",
     "text": [
      "0.999\n",
      "10.01001001001001\n",
      "22.964537848585724\n"
     ]
    }
   ],
   "source": [
    "x2_10 = float(input(\"Distance to planet in lightyears:\"))\n",
    "print(x2_10)\n",
    "v2_999 = float(input(\"Speed of space ship as a fraction of speed of light:\"))\n",
    "print(v2_999)\n",
    "\n",
    "t2_109 = x2_10 / v2_999\n",
    "print(t2_109)\n",
    "\n",
    "t_prime2_109 = gamma * (t2_109 - ((v2_999 * x2_10) / c))\n",
    "print(t_prime2_109)"
   ]
  },
  {
   "cell_type": "markdown",
   "metadata": {},
   "source": [
    "### 3) The quadratic equation\n",
    "\n",
    " Write a program that takes as input three numbers, $a$, $b$, and $c$, and prints out the two solutions to the quadratic equation $ax^2 + bx + c = 0$ using the standard\n",
    "formula:\n",
    "\n",
    "$$x = \\frac{-b \\pm \\sqrt{b^2 - 4ac}}{2a}$$\n",
    "\n",
    "Use your program to compute the solutions of $0.001x^2 + 1000x + 0.001 = 0$."
   ]
  },
  {
   "cell_type": "code",
   "execution_count": 47,
   "metadata": {},
   "outputs": [
    {
     "name": "stdin",
     "output_type": "stream",
     "text": [
      "a = 0.001\n"
     ]
    },
    {
     "name": "stdout",
     "output_type": "stream",
     "text": [
      "0.001\n"
     ]
    },
    {
     "name": "stdin",
     "output_type": "stream",
     "text": [
      "b = 1000\n"
     ]
    },
    {
     "name": "stdout",
     "output_type": "stream",
     "text": [
      "1000.0\n"
     ]
    },
    {
     "name": "stdin",
     "output_type": "stream",
     "text": [
      "c = 0.001\n"
     ]
    },
    {
     "name": "stdout",
     "output_type": "stream",
     "text": [
      "0.001\n",
      "-9.999894245993346e-07 -999999.999999\n"
     ]
    }
   ],
   "source": [
    "a = float(input(\"a =\"))\n",
    "print(a)\n",
    "b = float(input(\"b =\"))\n",
    "print(b)\n",
    "c = float(input(\"c =\"))\n",
    "print(c) \n",
    "\n",
    "x1 = (-b + (((b**2) - (4 * a * c))**(1/2))) / (2 * a)\n",
    "x2 = (-b - (((b**2) - (4 * a * c))**(1/2))) / (2 * a)\n",
    "print(x1, x2) \n"
   ]
  },
  {
   "cell_type": "markdown",
   "metadata": {},
   "source": [
    "There is another way to write the solutions to a quadratic equation. Multiplying top and bottom of the solution above by $-b \\mp \\sqrt{b^2 - 4ac}$, show that the solutions\n",
    "can also be written as:\n",
    "\n",
    "$$x = \\frac{2c}{-b \\mp \\sqrt{b^2 - 4ac}}$$\n",
    "\n",
    "Add further lines to your program to print these values in addition to the earlier ones and again use the program to solve $0.001x^2 + 1000x + 0.001 = 0$. What do you see? How do you explain it?"
   ]
  },
  {
   "cell_type": "code",
   "execution_count": 49,
   "metadata": {},
   "outputs": [
    {
     "name": "stdin",
     "output_type": "stream",
     "text": [
      "a = 0.001\n"
     ]
    },
    {
     "name": "stdout",
     "output_type": "stream",
     "text": [
      "0.001\n"
     ]
    },
    {
     "name": "stdin",
     "output_type": "stream",
     "text": [
      "b = 1000\n"
     ]
    },
    {
     "name": "stdout",
     "output_type": "stream",
     "text": [
      "1000.0\n"
     ]
    },
    {
     "name": "stdin",
     "output_type": "stream",
     "text": [
      "c = 0.001\n"
     ]
    },
    {
     "name": "stdout",
     "output_type": "stream",
     "text": [
      "0.001\n",
      "-1000010.5755125057 -1.000000000001e-06\n"
     ]
    }
   ],
   "source": [
    "a1 = float(input(\"a =\"))\n",
    "print(a1)\n",
    "b1 = float(input(\"b =\"))\n",
    "print(b1)\n",
    "c1 = float(input(\"c =\"))\n",
    "print(c1)\n",
    "\n",
    "x3 = (2 * c1) / (-b1 + ((b1**2) - (4 * a1 * c1))**(1/2))\n",
    "x4 = (2 * c1) / (-b1 - ((b1**2) - (4 * a1 * c1))**(1/2))\n",
    "print(x3, x4)\n",
    "\n",
    "#the coordinates are flipped and slightly larger than the previous ones"
   ]
  },
  {
   "cell_type": "markdown",
   "metadata": {},
   "source": [
    "Using what you have learned, write a new program that calculates both roots of a quadratic equation accurately in all cases."
   ]
  },
  {
   "cell_type": "code",
   "execution_count": 50,
   "metadata": {},
   "outputs": [
    {
     "name": "stdin",
     "output_type": "stream",
     "text": [
      "a = 0.001\n"
     ]
    },
    {
     "name": "stdout",
     "output_type": "stream",
     "text": [
      "0.001\n"
     ]
    },
    {
     "name": "stdin",
     "output_type": "stream",
     "text": [
      "b = 1000\n"
     ]
    },
    {
     "name": "stdout",
     "output_type": "stream",
     "text": [
      "1000.0\n"
     ]
    },
    {
     "name": "stdin",
     "output_type": "stream",
     "text": [
      "c = 0.001\n"
     ]
    },
    {
     "name": "stdout",
     "output_type": "stream",
     "text": [
      "0.001\n",
      "-9.999947123001673e-07 -1000005.2877557529\n"
     ]
    }
   ],
   "source": [
    "a = float(input(\"a =\"))\n",
    "print(a)\n",
    "b = float(input(\"b =\"))\n",
    "print(b)\n",
    "c = float(input(\"c =\"))\n",
    "print(c) \n",
    "\n",
    "x1 = (-b + (((b**2) - (4 * a * c))**(1/2))) / (2 * a)\n",
    "x2 = (-b - (((b**2) - (4 * a * c))**(1/2))) / (2 * a)\n",
    "x3 = (2 * c1) / (-b1 + ((b1**2) - (4 * a1 * c1))**(1/2))\n",
    "x4 = (2 * c1) / (-b1 - ((b1**2) - (4 * a1 * c1))**(1/2))\n",
    "root1_real = (x1 + x4) / 2\n",
    "root2_real = (x2 + x3) / 2\n",
    "print(root1_real, root2_real)"
   ]
  },
  {
   "cell_type": "code",
   "execution_count": null,
   "metadata": {},
   "outputs": [],
   "source": []
  }
 ],
 "metadata": {
  "kernelspec": {
   "display_name": "Python 3 (ipykernel)",
   "language": "python",
   "name": "python3"
  },
  "language_info": {
   "codemirror_mode": {
    "name": "ipython",
    "version": 3
   },
   "file_extension": ".py",
   "mimetype": "text/x-python",
   "name": "python",
   "nbconvert_exporter": "python",
   "pygments_lexer": "ipython3",
   "version": "3.9.12"
  }
 },
 "nbformat": 4,
 "nbformat_minor": 4
}
