{
 "cells": [
  {
   "cell_type": "markdown",
   "metadata": {},
   "source": [
    "# Number Representation and Precision"
   ]
  },
  {
   "cell_type": "markdown",
   "metadata": {},
   "source": [
    "Real numbers are stored with a decimal precision (or mantissa) and the decimal exponent range. The mantissa contains the significant figures of the number (and thereby the precision of the number). A number like (9.90625)10 in the decimal representation is given in a binary representation by\n",
    "\n",
    "(1001.11101)$_2$ = $1\\times2^3 +0\\times2^2 +0\\times2^1 +1\\times2^0 +1\\times2^{−1} +1\\times2^{−2} +1\\times2^{−3} +0\\times2^{−4} +1 \\times 2^{−5}$\n",
    "\n",
    "and it has an exact machine number representation since we need a finite number of bits to represent this number. This representation is however not very practical. Rather, we prefer to use a scientific notation. In the decimal system we would write a number like 9.90625 in what is called the normalized scientific notation. This means simply that the decimal point is shifted and appropriate powers of 10 are supplied. Our number could then be written as\n",
    "$9.90625 = 0.990625 \\times 10^1$,\n",
    "and a real non-zero number could be generalized as\n",
    "$x = \\pm r \\times 10^n$,\n",
    "with a $r$ a number in the range $1/10 \\le r < 1$. In a similar way we can represent a binary number in\n",
    "scientific notation as\n",
    "$x = \\pm q \\times 2^m$,\n",
    "with a $q$ a number in the range $1/2 \\le q < 1$."
   ]
  },
  {
   "cell_type": "markdown",
   "metadata": {},
   "source": [
    "In a typical computer, floating-point numbers are represented in the way described above, but with certain restrictions on q and m imposed by the available word length. In the machine, our number x is represented as\n",
    "\n",
    "$x = (−1)^s \\times mantissa \\times 2^{exponent}$\n",
    "\n",
    "where $s$ is the sign bit, and the exponent gives the available range. With a single-precision word, 32 bits, 8 bits would typically be reserved for the exponent, 1 bit for the sign and 23 for the mantissa. "
   ]
  },
  {
   "cell_type": "markdown",
   "metadata": {},
   "source": [
    "## 32-bit – single precision:\n",
    "\n",
    "Sign bit: 1 bit\n",
    "\n",
    "Exponent: 8 bits\n",
    "\n",
    "Significand precision: 24 bits (23 explicitly stored)\n",
    "\n",
    "This gives 6–9 significant decimal digits precision!"
   ]
  },
  {
   "cell_type": "markdown",
   "metadata": {},
   "source": [
    "## 64-bit = double precision:\n",
    "\n",
    "Sign bit: 1 bit\n",
    "\n",
    "Exponent: 11 bits\n",
    "\n",
    "Significand precision: 53 bits (52 explicitly stored)\n",
    "\n",
    "This gives 15–17 significant decimal digits precision.\n",
    "This the the Python default standard\n"
   ]
  },
  {
   "cell_type": "markdown",
   "metadata": {},
   "source": [
    "## 128-bit = quadruple precision:\n",
    "\n",
    "Sign bit: 1 bit\n",
    "\n",
    "Exponent: 15 bits\n",
    "\n",
    "Significand precision: 113 bits (112 explicitly stored)\n",
    "\n",
    "This gives 33–36 significant decimal digits precision.\n"
   ]
  },
  {
   "cell_type": "markdown",
   "metadata": {},
   "source": [
    "## 256-bit – Octuple precision:\n",
    "\n",
    "Sign bit: 1 bit\n",
    "    \n",
    "Exponent: 19 bits\n",
    "    \n",
    "Significand precision: 237 bits (236 explicitly stored)\n",
    "\n",
    "THIS IS RARELY IMPLEMENTED\n"
   ]
  },
  {
   "cell_type": "markdown",
   "metadata": {},
   "source": [
    "# Precision effects"
   ]
  },
  {
   "cell_type": "markdown",
   "metadata": {},
   "source": [
    "One important consequence of rounding error is that you should **NEVER Use an if statment to test equality of two floats.**  For instance, you should nerev, in any program, have a statment like:"
   ]
  },
  {
   "cell_type": "code",
   "execution_count": 1,
   "metadata": {},
   "outputs": [],
   "source": [
    "x = 3 * 1.1\n",
    "if x == 3.3:\n",
    "    print(x)"
   ]
  },
  {
   "cell_type": "markdown",
   "metadata": {},
   "source": [
    "If you need to do a logic trigger based on a float:"
   ]
  },
  {
   "cell_type": "code",
   "execution_count": 2,
   "metadata": {},
   "outputs": [
    {
     "name": "stdout",
     "output_type": "stream",
     "text": [
      "3.3000000000000003\n"
     ]
    }
   ],
   "source": [
    "epsilon = 1e-12\n",
    "if abs(x-3.3) < epsilon:\n",
    "    print(x)"
   ]
  },
  {
   "cell_type": "markdown",
   "metadata": {},
   "source": [
    "## Which operations are most important in dealing with precision?\n",
    "\n",
    "__Subtraction__ and __Derivatives__"
   ]
  },
  {
   "cell_type": "markdown",
   "metadata": {},
   "source": [
    "## Subtraction\n",
    "\n",
    "a = b - c\n",
    "\n",
    "We have:   $fl(a) = fl(b) - fl(c) = a(1+\\epsilon_a)$  or\n",
    "            $fl(a) = b(1+\\epsilon_b) - c(1+\\epsilon_c)$\n",
    "            \n",
    "So, $fl(a)/a = 1 + \\epsilon_b (b/a) - \\epsilon_c (c/a)$\n",
    "\n",
    "IF $b \\sim c$, we have the potential of increased error on $fl(a)$\n",
    "\n",
    "\n",
    "If we have:\n",
    "\n",
    "$x = 1000000000000000$\n",
    "\n",
    "$y = 1000000000000001.2345678901234$\n",
    "\n",
    "as far the computer is concerned:\n",
    "    "
   ]
  },
  {
   "cell_type": "code",
   "execution_count": 3,
   "metadata": {},
   "outputs": [
    {
     "name": "stdout",
     "output_type": "stream",
     "text": [
      "1.25\n"
     ]
    }
   ],
   "source": [
    "x = 1000000000000000\n",
    "y = 1000000000000001.2345678901234\n",
    " \n",
    "print(y-x) "
   ]
  },
  {
   "cell_type": "markdown",
   "metadata": {},
   "source": [
    "**The true result should be 1.2345678901234!**\n",
    "\n",
    "In other words, instead of 16-figure accuracy we now only have three figures and the fractional error is a few percent of the true value.  This is much worse than before!\n",
    "\n",
    "\n",
    "To see another exanple of this in practice, consider two numbers:\n",
    "\n",
    "$x = 1$, and $ y = 1+10^{-14}\\sqrt 2$ \n",
    "\n",
    "Simply we can see that:\n",
    "\n",
    "$ 10^{14} (y - x) = \\sqrt 2$\n",
    "\n",
    "Let us try the same calculation in python:\n",
    " "
   ]
  },
  {
   "cell_type": "code",
   "execution_count": 4,
   "metadata": {},
   "outputs": [
    {
     "name": "stdout",
     "output_type": "stream",
     "text": [
      "1.4210854715202004\n",
      "1.4142135623730951\n"
     ]
    }
   ],
   "source": [
    "from math import sqrt\n",
    "x = 1.0\n",
    "y = 1.0 + (1e-14)*sqrt(2)\n",
    "\n",
    "print((1e14)*(y-x))\n",
    "print(sqrt(2))"
   ]
  },
  {
   "cell_type": "markdown",
   "metadata": {},
   "source": [
    "Again error off by a percent.  We need to be careful in how we code math!"
   ]
  },
  {
   "cell_type": "markdown",
   "metadata": {},
   "source": [
    "## Example 1:  Summing $1/n$ \n",
    "\n",
    "Consider the series:\n",
    "\n",
    "$$s_1 = \\sum_{n=1}^N \\frac{1}{n}$$ which is finite when N is finite, then consider\n",
    "\n",
    "$$s_2 = \\sum_{n=N}^1 \\frac{1}{n}$$ which when summed analyitically should give $s_2 = s_1$"
   ]
  },
  {
   "cell_type": "code",
   "execution_count": 7,
   "metadata": {},
   "outputs": [
    {
     "name": "stdout",
     "output_type": "stream",
     "text": [
      "18.997896413852555 18.997896413853447\n"
     ]
    }
   ],
   "source": [
    "s1,s2 = 0,0\n",
    "for n in range(1,100000001):\n",
    "    s1 = s1 + 1/n\n",
    "for n in range (100000000,0,-1):\n",
    "    s2 = s2 + 1/n\n",
    "    \n",
    "print (s1,s2)\n",
    "\n",
    "\n",
    "# Write a code to perform both of these to sums for N = 1e8 and compare"
   ]
  },
  {
   "cell_type": "markdown",
   "metadata": {},
   "source": [
    "## Example 2: $e^{-x}$\n",
    "\n",
    "There are three possible algorithms for $e^{-x}$\n",
    "\n",
    "1) Simple: $$e^{-x} = \\sum_{n=0}^{\\infty} (-1)^n \\; \\frac{x^n}{n!}$$  \n",
    "\n",
    "2) Recursion: $$e^{-x} = \\sum_{n=0}^{\\infty} s_n = \\sum_{n=0}^{\\infty} (-1)^n \\; \\frac{x^n}{n!}$$  where $$ S_n = -s_{n-1} \\frac{x}{n}$$\n",
    "\n",
    "3) Inverse:  $$e^{x} {\\sum_{n=0}^{\\infty} \\frac{x^n}{n!}}$$  Then take the inverse:   $$e^{-x} = \\frac{1}{e^{x}}$$\n"
   ]
  },
  {
   "cell_type": "code",
   "execution_count": 23,
   "metadata": {},
   "outputs": [
    {
     "name": "stdout",
     "output_type": "stream",
     "text": [
      "1 <function emxsmp at 0x1166e5ca0> None <function emxinv at 0x1166e5670> 2.718281828459045\n"
     ]
    }
   ],
   "source": [
    "import math\n",
    "import numpy as np \n",
    "np.exp(-1)\n",
    "\n",
    "# write a function to compute e^-X for all three methods \n",
    "# Then check their output for x = 0 - 100, in steps of 10 and \n",
    "# Compare to the numpy version of exp(-x) which is imported above. \n",
    "\n",
    "x = 1\n",
    "def factorial(x):\n",
    "    if x == 1:\n",
    "        return 1\n",
    "    else:\n",
    "        return (x * factorial(x-1))\n",
    "    \n",
    "def emxsmp(x):\n",
    "    for x,n in range (0,100,10):\n",
    "        emxsmp = int((-1)**n*(x**n/math.factorial(n)))\n",
    "        return emxsmp\n",
    "\n",
    "def e_minusx_recurse(x):\n",
    "    emxrec = 0\n",
    "\n",
    "def emxinv(x):\n",
    "    for x,m in range(1,100,10):\n",
    "        emxinv = int(sum(1/(x**m/math.factorial(m))))\n",
    "        return emxinv\n",
    "\n",
    "print(x, emxsmp,e_minusx_recurse(x), emxinv, np.exp(x))"
   ]
  },
  {
   "cell_type": "code",
   "execution_count": null,
   "metadata": {},
   "outputs": [],
   "source": []
  }
 ],
 "metadata": {
  "kernelspec": {
   "display_name": "Python 3 (ipykernel)",
   "language": "python",
   "name": "python3"
  },
  "language_info": {
   "codemirror_mode": {
    "name": "ipython",
    "version": 3
   },
   "file_extension": ".py",
   "mimetype": "text/x-python",
   "name": "python",
   "nbconvert_exporter": "python",
   "pygments_lexer": "ipython3",
   "version": "3.9.12"
  }
 },
 "nbformat": 4,
 "nbformat_minor": 4
}
