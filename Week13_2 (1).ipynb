{
 "cells": [
  {
   "cell_type": "markdown",
   "metadata": {},
   "source": [
    "# Week 13:  Object-oriented programming HW"
   ]
  },
  {
   "cell_type": "markdown",
   "metadata": {},
   "source": [
    "## Exercise 1  (from Monday's class)"
   ]
  },
  {
   "cell_type": "markdown",
   "metadata": {},
   "source": [
    "1. Write a ``Particle`` class that can be used to represent a particle with a mass, a 3-d position, and a 3-d velocity.\n",
    "\n",
    "2. Write a method that can be used to compute the kinetic energy of the particle\n",
    "\n",
    "3. Write a method that takes another particle as an argument and finds the distance between the two particles\n",
    "\n",
    "4. Write a method that given a time interval ``dt`` will update the position of the particle to the new position based on the current position and velocity.\n",
    "\n",
    "5. Write a ``ChargedParticle`` class that inherits from the ``Particle`` class, but also has an attribute for the charge of the particle.\n"
   ]
  },
  {
   "cell_type": "code",
   "execution_count": 17,
   "metadata": {},
   "outputs": [],
   "source": [
    "import numpy as np\n",
    "# your solution here\n",
    "\n",
    "class Particle(object): \n",
    "    def __init__(self, mass, x, y, z, vx, vy, vz):\n",
    "        self.mass = mass\n",
    "        self.x = x\n",
    "        self.y = y\n",
    "        self.z = z\n",
    "        self.vx = vx\n",
    "        self.vy = vy\n",
    "        self.vz = vz\n",
    "    def kinetic_energy(self):\n",
    "        return (1/2) * self.mass * (np.sqrt(self.vx**2 + self.vy**2 + self.vz**2))**2\n",
    "    def separation(self,other):\n",
    "        return np.sqrt((self.x - other.x)**2 + (self.y - other.y)**2 + (self.z - other.z)**2)\n",
    "    def move(self, dt):\n",
    "        self.x = self.x + (self.vx * dt)\n",
    "        self.y = self.y + (self.vy * dt)\n",
    "        self.z = self.z + (self.vz * dt)\n",
    "    \n",
    "\n",
    "class ChargedParticle(Particle):\n",
    "\n",
    "    def __init__(self,mass, x, y, z, vx, vy, vz, charge):\n",
    "        self.mass = mass\n",
    "        self.x = x\n",
    "        self.y = y\n",
    "        self.z = z\n",
    "        self.vx = vx\n",
    "        self.vy = vy\n",
    "        self.vz = vz\n",
    "        self.charge = charge\n"
   ]
  },
  {
   "cell_type": "code",
   "execution_count": 18,
   "metadata": {},
   "outputs": [],
   "source": [
    "# write/copy code here"
   ]
  },
  {
   "cell_type": "markdown",
   "metadata": {},
   "source": [
    "## Exercise 2  (New)"
   ]
  },
  {
   "cell_type": "markdown",
   "metadata": {},
   "source": [
    "6. Write a method that can be used to see if a particle is in the same place (e.g., find_seperation < 0.25).  If there are two ChargedParticles in the same place make a \"simple\" (not correct physics) \"interaction\". (__have the code print \"interaction\"__).   \n",
    "\n",
    "    a. If the charges are opposite, make them \"combine\", set both velocities to zero and set their charge to zero, and print \"merge\".\n",
    "\n",
    "    b. Else, make the particles \"repel\", to do:\n",
    "    \n",
    "        multiply each \"self\" velocity and  by (-1 * (self.charge+other.charge) * (self.mass/other.mass))  \n",
    "    \n",
    "        multiply each \"other\" velocity by (-1 * (self.charge+other.charge) * (other.mass/self.mass)) \n",
    "    \n",
    "    e.g., reversing it's velocity, and print \"repel\". __(Again this is bad physics, but we are focusing on coding so play along.)__\n",
    "\n",
    "\n",
    "7. To test the above, write a code with two particles starting:\n",
    "\n",
    "        P1 at (x,y,z) = (-5,-5,-5) with (vx,vy,vz) = (1,1,1) and (charge = 0.5) \n",
    "\n",
    "        P2 at (x,y,z) = (5,5,5) with (vx,vy,vz) = (-1,-1,-1) and (charge = -0.5).  \n",
    "\n",
    "    Use your dt time interval to move the particles in 0.5 time steps for 50 steps, and print the current poition and velocity of each particle at each time step.  \n",
    "    \n",
    "\n",
    "8. To test the above, write a code with two particles starting: \n",
    "\n",
    "        P1 at (x,y,z) = (-5,-5,-5) with (vx,vy,vz) = (2,2,2) and (charge = 0.5) \n",
    "\n",
    "        P2 at (x,y,z) = (5,5,5) with (vx,vy,vz) = (-2,-2,-2) and (charge = 2.0).  \n",
    "\n",
    "    Use your dt time interval to move the particles in 0.5 time steps for 50 steps, and print the current poition and velocity of each particle at each time step.  \n"
   ]
  },
  {
   "cell_type": "code",
   "execution_count": 47,
   "metadata": {},
   "outputs": [],
   "source": [
    "P1 = ChargedParticle(5,-5,-5,-5,1,1,1,0.5)\n",
    "P2 = ChargedParticle(5,5,5,5,-1,-1,-1,-0.5)"
   ]
  },
  {
   "cell_type": "code",
   "execution_count": 48,
   "metadata": {},
   "outputs": [
    {
     "name": "stdout",
     "output_type": "stream",
     "text": [
      "17.320508075688775\n",
      "25.98076211353316\n"
     ]
    }
   ],
   "source": [
    "print(P1.separation(P2))\n",
    "P1.move(25)\n",
    "print(P1.separation(P2))"
   ]
  },
  {
   "cell_type": "code",
   "execution_count": 49,
   "metadata": {
    "tags": []
   },
   "outputs": [],
   "source": [
    "def separation(P1, P2):\n",
    "    if separation < float(0.25):\n",
    "        print(\"interaction\")\n",
    "        return \n",
    "        if P1.charge > 0 & P2.charge < 0 | P1.charge < 0 & P2.charge > 0: \n",
    "            P1.vx, P1.vy, P1.vz, P2.vx, P2.vy, P2.vz, P1.charge. P2.charge = 0,0,0,0,0,0,0,0 \n",
    "            print(\"merge\") \n",
    "        else: \n",
    "            new_P1.vx = P1.vx * (-1 * (P1.charge + P2.charge) * (P1.mass / P2.mass)) \n",
    "            new_P1.vy = P1.vy * (-1 * (P1.charge + P2.charge) * (P1.mass / P2.mass)) \n",
    "            new_P1.vz = P1.vz * (-1 * (P1.charge + P2.charge) * (P1.mass / P2.mass)) \n",
    "            new_P2.vx = P2.vx * (-1 * (P1.charge + P2.charge) * (P2.mass / P1.mass)) \n",
    "            new_P2.vy = P2.vy * (-1 * (P1.charge + P2.charge) * (P2.mass / P1.mass)) \n",
    "            new_P2.vz = P2.vz * (-1 * (P1.charge + P2.charge) * (P2.mass / P1.mass)) \n",
    "            print(\"repel\") \n",
    "            \n",
    "        \n",
    "\n"
   ]
  },
  {
   "cell_type": "code",
   "execution_count": 50,
   "metadata": {},
   "outputs": [],
   "source": [
    "P1.move(25)"
   ]
  },
  {
   "cell_type": "code",
   "execution_count": 51,
   "metadata": {},
   "outputs": [
    {
     "name": "stdout",
     "output_type": "stream",
     "text": [
      "69.2820323027551\n"
     ]
    }
   ],
   "source": [
    "sep = (P1.separation(P2))\n",
    "print(sep)"
   ]
  },
  {
   "cell_type": "code",
   "execution_count": 52,
   "metadata": {},
   "outputs": [
    {
     "name": "stdout",
     "output_type": "stream",
     "text": [
      "no interaction\n"
     ]
    }
   ],
   "source": [
    "if sep < 0.25: \n",
    "    print(\"interaction\")\n",
    "else: \n",
    "    print(\"no interaction\")"
   ]
  },
  {
   "cell_type": "code",
   "execution_count": 53,
   "metadata": {},
   "outputs": [
    {
     "name": "stdout",
     "output_type": "stream",
     "text": [
      "-0.0 -0.0 -0.0 0.0 0.0 0.0 repel\n"
     ]
    }
   ],
   "source": [
    "if sep < 0.25: \n",
    "    P1.vx = 0\n",
    "    P1.vy = 0\n",
    "    P1.vz = 0\n",
    "    P2.vx = 0\n",
    "    P2.vy = 0\n",
    "    P2.vz = 0\n",
    "    P1.charge = 0\n",
    "    P2.charge = 0\n",
    "    print(\"merge\") \n",
    "else: \n",
    "    P1.vx = P1.vx * (-1 * (P1.charge + P2.charge) * (P1.mass / P2.mass)) \n",
    "    P1.vy = P1.vy * (-1 * (P1.charge + P2.charge) * (P1.mass / P2.mass)) \n",
    "    P1.vz = P1.vz * (-1 * (P1.charge + P2.charge) * (P1.mass / P2.mass)) \n",
    "    P2.vx = P2.vx * (-1 * (P1.charge + P2.charge) * (P2.mass / P1.mass)) \n",
    "    P2.vy = P2.vy * (-1 * (P1.charge + P2.charge) * (P2.mass / P1.mass)) \n",
    "    P2.vz = P2.vz * (-1 * (P1.charge + P2.charge) * (P2.mass / P1.mass)) \n",
    "    print(P1.vx, P1.vy, P1.vz, P2.vx, P2.vy, P2.vz, \"repel\") "
   ]
  },
  {
   "cell_type": "code",
   "execution_count": null,
   "metadata": {},
   "outputs": [],
   "source": []
  }
 ],
 "metadata": {
  "kernelspec": {
   "display_name": "Python 3 (ipykernel)",
   "language": "python",
   "name": "python3"
  },
  "language_info": {
   "codemirror_mode": {
    "name": "ipython",
    "version": 3
   },
   "file_extension": ".py",
   "mimetype": "text/x-python",
   "name": "python",
   "nbconvert_exporter": "python",
   "pygments_lexer": "ipython3",
   "version": "3.9.12"
  }
 },
 "nbformat": 4,
 "nbformat_minor": 4
}
